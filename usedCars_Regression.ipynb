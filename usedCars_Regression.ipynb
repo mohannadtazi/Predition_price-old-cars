{
 "cells": [
  {
   "cell_type": "markdown",
   "id": "6838e0e4-aa8d-4bb8-8166-ee5a96e02b31",
   "metadata": {},
   "source": [
    "# Regression Lineaire"
   ]
  },
  {
   "cell_type": "markdown",
   "id": "bd3a3f6d-f3fe-4329-b7bf-af0db94a7dce",
   "metadata": {},
   "source": [
    "### import libraries"
   ]
  },
  {
   "cell_type": "code",
   "execution_count": 1,
   "id": "6bf945b8-a281-4e0e-b96c-aa292ab92a56",
   "metadata": {},
   "outputs": [],
   "source": [
    "import pandas as pd\n",
    "import numpy as np\n",
    "from sklearn.tree import DecisionTreeRegressor"
   ]
  },
  {
   "cell_type": "markdown",
   "id": "98ba7325-ce34-4eb8-a273-08572ed3671f",
   "metadata": {},
   "source": [
    "### read data"
   ]
  },
  {
   "cell_type": "code",
   "execution_count": 2,
   "id": "b3a66b46-ed4a-46b2-b810-6eb07c91ef21",
   "metadata": {},
   "outputs": [
    {
     "data": {
      "text/html": [
       "<div>\n",
       "<style scoped>\n",
       "    .dataframe tbody tr th:only-of-type {\n",
       "        vertical-align: middle;\n",
       "    }\n",
       "\n",
       "    .dataframe tbody tr th {\n",
       "        vertical-align: top;\n",
       "    }\n",
       "\n",
       "    .dataframe thead th {\n",
       "        text-align: right;\n",
       "    }\n",
       "</style>\n",
       "<table border=\"1\" class=\"dataframe\">\n",
       "  <thead>\n",
       "    <tr style=\"text-align: right;\">\n",
       "      <th></th>\n",
       "      <th>Lien</th>\n",
       "      <th>Ville</th>\n",
       "      <th>Secteur</th>\n",
       "      <th>Marque</th>\n",
       "      <th>Modèle</th>\n",
       "      <th>Année-Modèle</th>\n",
       "      <th>Kilométrage</th>\n",
       "      <th>Type de carburant</th>\n",
       "      <th>Puissance fiscale</th>\n",
       "      <th>Boite de vitesses</th>\n",
       "      <th>...</th>\n",
       "      <th>Caméra de recul</th>\n",
       "      <th>Vitres électriques</th>\n",
       "      <th>ABS</th>\n",
       "      <th>ESP</th>\n",
       "      <th>Régulateur de vitesse</th>\n",
       "      <th>Limiteur de vitesse</th>\n",
       "      <th>CD/MP3/Bluetooth</th>\n",
       "      <th>Ordinateur de bord</th>\n",
       "      <th>Verrouillage centralisé à distance</th>\n",
       "      <th>Prix</th>\n",
       "    </tr>\n",
       "  </thead>\n",
       "  <tbody>\n",
       "    <tr>\n",
       "      <th>0</th>\n",
       "      <td>https://www.avito.ma/fr/massira_2/voitures/FIA...</td>\n",
       "      <td>Temara</td>\n",
       "      <td>Massira 2</td>\n",
       "      <td>Fiat</td>\n",
       "      <td>Punto</td>\n",
       "      <td>2007</td>\n",
       "      <td>200 000 - 249 999</td>\n",
       "      <td>Diesel</td>\n",
       "      <td>5</td>\n",
       "      <td>Manuelle</td>\n",
       "      <td>...</td>\n",
       "      <td>False</td>\n",
       "      <td>False</td>\n",
       "      <td>True</td>\n",
       "      <td>False</td>\n",
       "      <td>False</td>\n",
       "      <td>False</td>\n",
       "      <td>True</td>\n",
       "      <td>False</td>\n",
       "      <td>False</td>\n",
       "      <td>60000</td>\n",
       "    </tr>\n",
       "    <tr>\n",
       "      <th>1</th>\n",
       "      <td>https://www.avito.ma/fr/temara/voitures/Dacia_...</td>\n",
       "      <td>Temara</td>\n",
       "      <td>NaN</td>\n",
       "      <td>Dacia</td>\n",
       "      <td>Dokker Van</td>\n",
       "      <td>2013</td>\n",
       "      <td>400 000 - 449 999</td>\n",
       "      <td>Diesel</td>\n",
       "      <td>6</td>\n",
       "      <td>Manuelle</td>\n",
       "      <td>...</td>\n",
       "      <td>False</td>\n",
       "      <td>False</td>\n",
       "      <td>False</td>\n",
       "      <td>False</td>\n",
       "      <td>False</td>\n",
       "      <td>False</td>\n",
       "      <td>False</td>\n",
       "      <td>False</td>\n",
       "      <td>False</td>\n",
       "      <td>70000</td>\n",
       "    </tr>\n",
       "    <tr>\n",
       "      <th>2</th>\n",
       "      <td>https://www.avito.ma/fr/casablanca/voitures/Da...</td>\n",
       "      <td>Casablanca</td>\n",
       "      <td>NaN</td>\n",
       "      <td>Dacia</td>\n",
       "      <td>Dokker</td>\n",
       "      <td>2014</td>\n",
       "      <td>160 000 - 169 999</td>\n",
       "      <td>Diesel</td>\n",
       "      <td>6</td>\n",
       "      <td>Manuelle</td>\n",
       "      <td>...</td>\n",
       "      <td>False</td>\n",
       "      <td>False</td>\n",
       "      <td>False</td>\n",
       "      <td>False</td>\n",
       "      <td>False</td>\n",
       "      <td>False</td>\n",
       "      <td>False</td>\n",
       "      <td>False</td>\n",
       "      <td>False</td>\n",
       "      <td>90000</td>\n",
       "    </tr>\n",
       "    <tr>\n",
       "      <th>3</th>\n",
       "      <td>https://www.avito.ma/fr/casablanca/voitures/to...</td>\n",
       "      <td>Casablanca</td>\n",
       "      <td>NaN</td>\n",
       "      <td>Volkswagen</td>\n",
       "      <td>Touareg</td>\n",
       "      <td>2005</td>\n",
       "      <td>0 - 4 999</td>\n",
       "      <td>Diesel</td>\n",
       "      <td>10</td>\n",
       "      <td>Automatique</td>\n",
       "      <td>...</td>\n",
       "      <td>False</td>\n",
       "      <td>False</td>\n",
       "      <td>False</td>\n",
       "      <td>False</td>\n",
       "      <td>False</td>\n",
       "      <td>False</td>\n",
       "      <td>False</td>\n",
       "      <td>False</td>\n",
       "      <td>False</td>\n",
       "      <td>90000</td>\n",
       "    </tr>\n",
       "    <tr>\n",
       "      <th>4</th>\n",
       "      <td>https://www.avito.ma/fr/dakhla/voitures/Toyota...</td>\n",
       "      <td>Dakhla</td>\n",
       "      <td>NaN</td>\n",
       "      <td>Toyota</td>\n",
       "      <td>Prado</td>\n",
       "      <td>2007</td>\n",
       "      <td>200 000 - 249 999</td>\n",
       "      <td>Diesel</td>\n",
       "      <td>12</td>\n",
       "      <td>Manuelle</td>\n",
       "      <td>...</td>\n",
       "      <td>False</td>\n",
       "      <td>False</td>\n",
       "      <td>True</td>\n",
       "      <td>False</td>\n",
       "      <td>False</td>\n",
       "      <td>False</td>\n",
       "      <td>True</td>\n",
       "      <td>False</td>\n",
       "      <td>False</td>\n",
       "      <td>97000</td>\n",
       "    </tr>\n",
       "  </tbody>\n",
       "</table>\n",
       "<p>5 rows × 31 columns</p>\n",
       "</div>"
      ],
      "text/plain": [
       "                                                Lien       Ville    Secteur  \\\n",
       "0  https://www.avito.ma/fr/massira_2/voitures/FIA...      Temara  Massira 2   \n",
       "1  https://www.avito.ma/fr/temara/voitures/Dacia_...      Temara        NaN   \n",
       "2  https://www.avito.ma/fr/casablanca/voitures/Da...  Casablanca        NaN   \n",
       "3  https://www.avito.ma/fr/casablanca/voitures/to...  Casablanca        NaN   \n",
       "4  https://www.avito.ma/fr/dakhla/voitures/Toyota...      Dakhla        NaN   \n",
       "\n",
       "       Marque      Modèle  Année-Modèle        Kilométrage Type de carburant  \\\n",
       "0        Fiat       Punto          2007  200 000 - 249 999            Diesel   \n",
       "1       Dacia  Dokker Van          2013  400 000 - 449 999            Diesel   \n",
       "2       Dacia      Dokker          2014  160 000 - 169 999            Diesel   \n",
       "3  Volkswagen     Touareg          2005          0 - 4 999            Diesel   \n",
       "4      Toyota       Prado          2007  200 000 - 249 999            Diesel   \n",
       "\n",
       "   Puissance fiscale Boite de vitesses  ...  Caméra de recul  \\\n",
       "0                  5          Manuelle  ...            False   \n",
       "1                  6          Manuelle  ...            False   \n",
       "2                  6          Manuelle  ...            False   \n",
       "3                 10       Automatique  ...            False   \n",
       "4                 12          Manuelle  ...            False   \n",
       "\n",
       "  Vitres électriques    ABS    ESP  Régulateur de vitesse  \\\n",
       "0              False   True  False                  False   \n",
       "1              False  False  False                  False   \n",
       "2              False  False  False                  False   \n",
       "3              False  False  False                  False   \n",
       "4              False   True  False                  False   \n",
       "\n",
       "   Limiteur de vitesse  CD/MP3/Bluetooth  Ordinateur de bord  \\\n",
       "0                False              True               False   \n",
       "1                False             False               False   \n",
       "2                False             False               False   \n",
       "3                False             False               False   \n",
       "4                False              True               False   \n",
       "\n",
       "   Verrouillage centralisé à distance   Prix  \n",
       "0                               False  60000  \n",
       "1                               False  70000  \n",
       "2                               False  90000  \n",
       "3                               False  90000  \n",
       "4                               False  97000  \n",
       "\n",
       "[5 rows x 31 columns]"
      ]
     },
     "execution_count": 2,
     "metadata": {},
     "output_type": "execute_result"
    }
   ],
   "source": [
    "df = pd.read_csv('avito_car_dataset_ALL.csv', encoding='latin1', index_col=0)\n",
    "df.head()"
   ]
  },
  {
   "cell_type": "markdown",
   "id": "21cd3695-e27d-4fda-bd45-fe49e8449888",
   "metadata": {},
   "source": [
    "## EDA"
   ]
  },
  {
   "cell_type": "code",
   "execution_count": 3,
   "id": "60fad3c6-fff2-480a-ab1f-f4eae35e9d97",
   "metadata": {},
   "outputs": [
    {
     "data": {
      "text/plain": [
       "Index(['Lien', 'Ville', 'Secteur', 'Marque', 'Modèle', 'Année-Modèle',\n",
       "       'Kilométrage', 'Type de carburant', 'Puissance fiscale',\n",
       "       'Boite de vitesses', 'Nombre de portes', 'Origine', 'Première main',\n",
       "       'État', 'Jantes aluminium', 'Airbags', 'Climatisation',\n",
       "       'Système de navigation/GPS', 'Toit ouvrant', 'Sièges cuir',\n",
       "       'Radar de recul', 'Caméra de recul', 'Vitres électriques', 'ABS', 'ESP',\n",
       "       'Régulateur de vitesse', 'Limiteur de vitesse', 'CD/MP3/Bluetooth',\n",
       "       'Ordinateur de bord', 'Verrouillage centralisé à distance', 'Prix'],\n",
       "      dtype='object')"
      ]
     },
     "execution_count": 3,
     "metadata": {},
     "output_type": "execute_result"
    }
   ],
   "source": [
    "df.columns"
   ]
  },
  {
   "cell_type": "code",
   "execution_count": 4,
   "id": "61cc0458-2439-4662-9921-c0c78810623e",
   "metadata": {},
   "outputs": [
    {
     "data": {
      "text/plain": [
       "Lien                                   object\n",
       "Ville                                  object\n",
       "Secteur                                object\n",
       "Marque                                 object\n",
       "Modèle                                 object\n",
       "Année-Modèle                            int64\n",
       "Kilométrage                            object\n",
       "Type de carburant                      object\n",
       "Puissance fiscale                       int64\n",
       "Boite de vitesses                      object\n",
       "Nombre de portes                      float64\n",
       "Origine                                object\n",
       "Première main                          object\n",
       "État                                   object\n",
       "Jantes aluminium                         bool\n",
       "Airbags                                  bool\n",
       "Climatisation                            bool\n",
       "Système de navigation/GPS                bool\n",
       "Toit ouvrant                             bool\n",
       "Sièges cuir                              bool\n",
       "Radar de recul                           bool\n",
       "Caméra de recul                          bool\n",
       "Vitres électriques                       bool\n",
       "ABS                                      bool\n",
       "ESP                                      bool\n",
       "Régulateur de vitesse                    bool\n",
       "Limiteur de vitesse                      bool\n",
       "CD/MP3/Bluetooth                         bool\n",
       "Ordinateur de bord                       bool\n",
       "Verrouillage centralisé à distance       bool\n",
       "Prix                                    int64\n",
       "dtype: object"
      ]
     },
     "execution_count": 4,
     "metadata": {},
     "output_type": "execute_result"
    }
   ],
   "source": [
    "df.dtypes"
   ]
  },
  {
   "cell_type": "code",
   "execution_count": 5,
   "id": "be79f443-685f-460e-9646-16f7d758b36f",
   "metadata": {},
   "outputs": [
    {
     "name": "stdout",
     "output_type": "stream",
     "text": [
      "                                                    Lien       Ville  \\\n",
      "0      https://www.avito.ma/fr/massira_2/voitures/FIA...      Temara   \n",
      "1      https://www.avito.ma/fr/temara/voitures/Dacia_...      Temara   \n",
      "2      https://www.avito.ma/fr/casablanca/voitures/Da...  Casablanca   \n",
      "3      https://www.avito.ma/fr/casablanca/voitures/to...  Casablanca   \n",
      "4      https://www.avito.ma/fr/dakhla/voitures/Toyota...      Dakhla   \n",
      "...                                                  ...         ...   \n",
      "24771  https://www.avito.ma/fr/gueliz/voitures/Mini_C...   Marrakech   \n",
      "24772  https://www.avito.ma/fr/safi/voitures/mini_coo...        Safi   \n",
      "24773  https://www.avito.ma/fr/sal%C3%A9/voitures/Min...        Salé   \n",
      "24774  https://www.avito.ma/fr/polo/voitures/Mini_coo...  Casablanca   \n",
      "24775  https://www.avito.ma/fr/marrakech/voitures/min...   Marrakech   \n",
      "\n",
      "         Secteur      Marque      Modèle  Année-Modèle        Kilométrage  \\\n",
      "0      Massira 2        Fiat       Punto          2007  200 000 - 249 999   \n",
      "1            NaN       Dacia  Dokker Van          2013  400 000 - 449 999   \n",
      "2            NaN       Dacia      Dokker          2014  160 000 - 169 999   \n",
      "3            NaN  Volkswagen     Touareg          2005          0 - 4 999   \n",
      "4            NaN      Toyota       Prado          2007  200 000 - 249 999   \n",
      "...          ...         ...         ...           ...                ...   \n",
      "24771     Guéliz        mini      cabrio          2011    70 000 - 74 999   \n",
      "24772        NaN        mini      cooper          2007  190 000 - 199 999   \n",
      "24773        NaN        mini         one          2006    10 000 - 14 999   \n",
      "24774       Polo        mini      cooper          2010  140 000 - 149 999   \n",
      "24775        NaN        mini      cooper          2008  180 000 - 189 999   \n",
      "\n",
      "      Type de carburant  Puissance fiscale Boite de vitesses  ...  \\\n",
      "0                Diesel                  5          Manuelle  ...   \n",
      "1                Diesel                  6          Manuelle  ...   \n",
      "2                Diesel                  6          Manuelle  ...   \n",
      "3                Diesel                 10       Automatique  ...   \n",
      "4                Diesel                 12          Manuelle  ...   \n",
      "...                 ...                ...               ...  ...   \n",
      "24771           Essence                  9          Manuelle  ...   \n",
      "24772           Essence                  9          Manuelle  ...   \n",
      "24773           Essence                  8          Manuelle  ...   \n",
      "24774           Essence                  9       Automatique  ...   \n",
      "24775           Essence                  9          Manuelle  ...   \n",
      "\n",
      "       Caméra de recul Vitres électriques    ABS    ESP  \\\n",
      "0                False              False   True  False   \n",
      "1                False              False  False  False   \n",
      "2                False              False  False  False   \n",
      "3                False              False  False  False   \n",
      "4                False              False   True  False   \n",
      "...                ...                ...    ...    ...   \n",
      "24771            False              False   True   True   \n",
      "24772            False              False   True   True   \n",
      "24773            False              False   True  False   \n",
      "24774            False              False   True   True   \n",
      "24775            False              False  False  False   \n",
      "\n",
      "       Régulateur de vitesse  Limiteur de vitesse  CD/MP3/Bluetooth  \\\n",
      "0                      False                False              True   \n",
      "1                      False                False             False   \n",
      "2                      False                False             False   \n",
      "3                      False                False             False   \n",
      "4                      False                False              True   \n",
      "...                      ...                  ...               ...   \n",
      "24771                  False                False             False   \n",
      "24772                  False                False              True   \n",
      "24773                  False                False              True   \n",
      "24774                  False                False              True   \n",
      "24775                  False                False             False   \n",
      "\n",
      "       Ordinateur de bord  Verrouillage centralisé à distance    Prix  \n",
      "0                   False                               False   60000  \n",
      "1                   False                               False   70000  \n",
      "2                   False                               False   90000  \n",
      "3                   False                               False   90000  \n",
      "4                   False                               False   97000  \n",
      "...                   ...                                 ...     ...  \n",
      "24771               False                               False  180000  \n",
      "24772               False                               False   63000  \n",
      "24773               False                               False   60000  \n",
      "24774               False                               False   85000  \n",
      "24775               False                               False   84000  \n",
      "\n",
      "[24776 rows x 31 columns]\n"
     ]
    }
   ],
   "source": [
    "print(df)"
   ]
  },
  {
   "cell_type": "code",
   "execution_count": 6,
   "id": "f803c5ac-e865-43f3-b57c-ec446f205c8d",
   "metadata": {},
   "outputs": [],
   "source": [
    "df.drop(columns=['Lien','Secteur'] , inplace=True)"
   ]
  },
  {
   "cell_type": "code",
   "execution_count": 7,
   "id": "dc7c66dc-7b04-4e4a-8a54-2ecd68791c84",
   "metadata": {},
   "outputs": [
    {
     "data": {
      "text/html": [
       "<div>\n",
       "<style scoped>\n",
       "    .dataframe tbody tr th:only-of-type {\n",
       "        vertical-align: middle;\n",
       "    }\n",
       "\n",
       "    .dataframe tbody tr th {\n",
       "        vertical-align: top;\n",
       "    }\n",
       "\n",
       "    .dataframe thead th {\n",
       "        text-align: right;\n",
       "    }\n",
       "</style>\n",
       "<table border=\"1\" class=\"dataframe\">\n",
       "  <thead>\n",
       "    <tr style=\"text-align: right;\">\n",
       "      <th></th>\n",
       "      <th>Ville</th>\n",
       "      <th>Marque</th>\n",
       "      <th>Modèle</th>\n",
       "      <th>Année-Modèle</th>\n",
       "      <th>Kilométrage</th>\n",
       "      <th>Type de carburant</th>\n",
       "      <th>Puissance fiscale</th>\n",
       "      <th>Boite de vitesses</th>\n",
       "      <th>Nombre de portes</th>\n",
       "      <th>Origine</th>\n",
       "      <th>...</th>\n",
       "      <th>Caméra de recul</th>\n",
       "      <th>Vitres électriques</th>\n",
       "      <th>ABS</th>\n",
       "      <th>ESP</th>\n",
       "      <th>Régulateur de vitesse</th>\n",
       "      <th>Limiteur de vitesse</th>\n",
       "      <th>CD/MP3/Bluetooth</th>\n",
       "      <th>Ordinateur de bord</th>\n",
       "      <th>Verrouillage centralisé à distance</th>\n",
       "      <th>Prix</th>\n",
       "    </tr>\n",
       "  </thead>\n",
       "  <tbody>\n",
       "    <tr>\n",
       "      <th>0</th>\n",
       "      <td>Temara</td>\n",
       "      <td>Fiat</td>\n",
       "      <td>Punto</td>\n",
       "      <td>2007</td>\n",
       "      <td>200 000 - 249 999</td>\n",
       "      <td>Diesel</td>\n",
       "      <td>5</td>\n",
       "      <td>Manuelle</td>\n",
       "      <td>5.0</td>\n",
       "      <td>WW au Maroc</td>\n",
       "      <td>...</td>\n",
       "      <td>False</td>\n",
       "      <td>False</td>\n",
       "      <td>True</td>\n",
       "      <td>False</td>\n",
       "      <td>False</td>\n",
       "      <td>False</td>\n",
       "      <td>True</td>\n",
       "      <td>False</td>\n",
       "      <td>False</td>\n",
       "      <td>60000</td>\n",
       "    </tr>\n",
       "    <tr>\n",
       "      <th>1</th>\n",
       "      <td>Temara</td>\n",
       "      <td>Dacia</td>\n",
       "      <td>Dokker Van</td>\n",
       "      <td>2013</td>\n",
       "      <td>400 000 - 449 999</td>\n",
       "      <td>Diesel</td>\n",
       "      <td>6</td>\n",
       "      <td>Manuelle</td>\n",
       "      <td>3.0</td>\n",
       "      <td>WW au Maroc</td>\n",
       "      <td>...</td>\n",
       "      <td>False</td>\n",
       "      <td>False</td>\n",
       "      <td>False</td>\n",
       "      <td>False</td>\n",
       "      <td>False</td>\n",
       "      <td>False</td>\n",
       "      <td>False</td>\n",
       "      <td>False</td>\n",
       "      <td>False</td>\n",
       "      <td>70000</td>\n",
       "    </tr>\n",
       "    <tr>\n",
       "      <th>2</th>\n",
       "      <td>Casablanca</td>\n",
       "      <td>Dacia</td>\n",
       "      <td>Dokker</td>\n",
       "      <td>2014</td>\n",
       "      <td>160 000 - 169 999</td>\n",
       "      <td>Diesel</td>\n",
       "      <td>6</td>\n",
       "      <td>Manuelle</td>\n",
       "      <td>5.0</td>\n",
       "      <td>WW au Maroc</td>\n",
       "      <td>...</td>\n",
       "      <td>False</td>\n",
       "      <td>False</td>\n",
       "      <td>False</td>\n",
       "      <td>False</td>\n",
       "      <td>False</td>\n",
       "      <td>False</td>\n",
       "      <td>False</td>\n",
       "      <td>False</td>\n",
       "      <td>False</td>\n",
       "      <td>90000</td>\n",
       "    </tr>\n",
       "    <tr>\n",
       "      <th>3</th>\n",
       "      <td>Casablanca</td>\n",
       "      <td>Volkswagen</td>\n",
       "      <td>Touareg</td>\n",
       "      <td>2005</td>\n",
       "      <td>0 - 4 999</td>\n",
       "      <td>Diesel</td>\n",
       "      <td>10</td>\n",
       "      <td>Automatique</td>\n",
       "      <td>5.0</td>\n",
       "      <td>WW au Maroc</td>\n",
       "      <td>...</td>\n",
       "      <td>False</td>\n",
       "      <td>False</td>\n",
       "      <td>False</td>\n",
       "      <td>False</td>\n",
       "      <td>False</td>\n",
       "      <td>False</td>\n",
       "      <td>False</td>\n",
       "      <td>False</td>\n",
       "      <td>False</td>\n",
       "      <td>90000</td>\n",
       "    </tr>\n",
       "    <tr>\n",
       "      <th>4</th>\n",
       "      <td>Dakhla</td>\n",
       "      <td>Toyota</td>\n",
       "      <td>Prado</td>\n",
       "      <td>2007</td>\n",
       "      <td>200 000 - 249 999</td>\n",
       "      <td>Diesel</td>\n",
       "      <td>12</td>\n",
       "      <td>Manuelle</td>\n",
       "      <td>5.0</td>\n",
       "      <td>WW au Maroc</td>\n",
       "      <td>...</td>\n",
       "      <td>False</td>\n",
       "      <td>False</td>\n",
       "      <td>True</td>\n",
       "      <td>False</td>\n",
       "      <td>False</td>\n",
       "      <td>False</td>\n",
       "      <td>True</td>\n",
       "      <td>False</td>\n",
       "      <td>False</td>\n",
       "      <td>97000</td>\n",
       "    </tr>\n",
       "  </tbody>\n",
       "</table>\n",
       "<p>5 rows × 29 columns</p>\n",
       "</div>"
      ],
      "text/plain": [
       "        Ville      Marque      Modèle  Année-Modèle        Kilométrage  \\\n",
       "0      Temara        Fiat       Punto          2007  200 000 - 249 999   \n",
       "1      Temara       Dacia  Dokker Van          2013  400 000 - 449 999   \n",
       "2  Casablanca       Dacia      Dokker          2014  160 000 - 169 999   \n",
       "3  Casablanca  Volkswagen     Touareg          2005          0 - 4 999   \n",
       "4      Dakhla      Toyota       Prado          2007  200 000 - 249 999   \n",
       "\n",
       "  Type de carburant  Puissance fiscale Boite de vitesses  Nombre de portes  \\\n",
       "0            Diesel                  5          Manuelle               5.0   \n",
       "1            Diesel                  6          Manuelle               3.0   \n",
       "2            Diesel                  6          Manuelle               5.0   \n",
       "3            Diesel                 10       Automatique               5.0   \n",
       "4            Diesel                 12          Manuelle               5.0   \n",
       "\n",
       "       Origine  ... Caméra de recul Vitres électriques    ABS    ESP  \\\n",
       "0  WW au Maroc  ...           False              False   True  False   \n",
       "1  WW au Maroc  ...           False              False  False  False   \n",
       "2  WW au Maroc  ...           False              False  False  False   \n",
       "3  WW au Maroc  ...           False              False  False  False   \n",
       "4  WW au Maroc  ...           False              False   True  False   \n",
       "\n",
       "   Régulateur de vitesse  Limiteur de vitesse  CD/MP3/Bluetooth  \\\n",
       "0                  False                False              True   \n",
       "1                  False                False             False   \n",
       "2                  False                False             False   \n",
       "3                  False                False             False   \n",
       "4                  False                False              True   \n",
       "\n",
       "   Ordinateur de bord  Verrouillage centralisé à distance   Prix  \n",
       "0               False                               False  60000  \n",
       "1               False                               False  70000  \n",
       "2               False                               False  90000  \n",
       "3               False                               False  90000  \n",
       "4               False                               False  97000  \n",
       "\n",
       "[5 rows x 29 columns]"
      ]
     },
     "execution_count": 7,
     "metadata": {},
     "output_type": "execute_result"
    }
   ],
   "source": [
    "df.head()"
   ]
  },
  {
   "cell_type": "code",
   "execution_count": 8,
   "id": "2f4e892b-23e2-4f96-a2f7-99fe2b2e5e3d",
   "metadata": {},
   "outputs": [],
   "source": [
    "\n",
    "df['Nombre de portes'] = pd.array(df['Nombre de portes'], dtype=pd.Int64Dtype())"
   ]
  },
  {
   "cell_type": "code",
   "execution_count": 9,
   "id": "0ff3a9d4-84ca-4cf2-be64-424d2b00f1b1",
   "metadata": {},
   "outputs": [
    {
     "data": {
      "text/plain": [
       "Ville                                    0\n",
       "Marque                                   0\n",
       "Modèle                                   0\n",
       "Année-Modèle                             0\n",
       "Kilométrage                              0\n",
       "Type de carburant                        0\n",
       "Puissance fiscale                        0\n",
       "Boite de vitesses                        0\n",
       "Nombre de portes                      4380\n",
       "Origine                               5287\n",
       "Première main                         6209\n",
       "État                                  6678\n",
       "Jantes aluminium                         0\n",
       "Airbags                                  0\n",
       "Climatisation                            0\n",
       "Système de navigation/GPS                0\n",
       "Toit ouvrant                             0\n",
       "Sièges cuir                              0\n",
       "Radar de recul                           0\n",
       "Caméra de recul                          0\n",
       "Vitres électriques                       0\n",
       "ABS                                      0\n",
       "ESP                                      0\n",
       "Régulateur de vitesse                    0\n",
       "Limiteur de vitesse                      0\n",
       "CD/MP3/Bluetooth                         0\n",
       "Ordinateur de bord                       0\n",
       "Verrouillage centralisé à distance       0\n",
       "Prix                                     0\n",
       "dtype: int64"
      ]
     },
     "execution_count": 9,
     "metadata": {},
     "output_type": "execute_result"
    }
   ],
   "source": [
    "df.isna().sum()"
   ]
  },
  {
   "cell_type": "markdown",
   "id": "23765d33-269e-4137-b1c3-63ac8bad1265",
   "metadata": {},
   "source": [
    "### Encoding"
   ]
  },
  {
   "cell_type": "code",
   "execution_count": 10,
   "id": "675669ac-51f6-4763-a83b-dc6b92378dc2",
   "metadata": {},
   "outputs": [],
   "source": [
    "df['Jantes aluminium'] = df['Jantes aluminium'].astype(int)\n",
    "df['Airbags'] = df['Airbags'].astype(int)\n",
    "df['Climatisation'] = df['Climatisation'].astype(int)\n",
    "df['Système de navigation/GPS'] = df['Système de navigation/GPS'].astype(int)\n",
    "df['Toit ouvrant'] = df['Toit ouvrant'].astype(int)\n",
    "df['Sièges cuir'] = df['Sièges cuir'].astype(int)\n",
    "df['Radar de recul'] = df['Radar de recul'].astype(int)\n",
    "df['Caméra de recul'] = df['Caméra de recul'].astype(int)\n",
    "df['Vitres électriques'] = df['Vitres électriques'].astype(int)\n",
    "df['ABS'] = df['ABS'].astype(int)\n",
    "df['ESP'] = df['ESP'].astype(int)\n",
    "df['Régulateur de vitesse'] = df['Régulateur de vitesse'].astype(int)\n",
    "df['Limiteur de vitesse'] = df['Limiteur de vitesse'].astype(int)\n",
    "df['CD/MP3/Bluetooth'] = df['CD/MP3/Bluetooth'].astype(int)\n",
    "df['Ordinateur de bord'] = df['Ordinateur de bord'].astype(int)\n",
    "df['Verrouillage centralisé à distance'] = df['Verrouillage centralisé à distance'].astype(int)"
   ]
  },
  {
   "cell_type": "code",
   "execution_count": 11,
   "id": "0015ba74-72af-4fc2-b205-15262a59d5c8",
   "metadata": {},
   "outputs": [
    {
     "data": {
      "text/html": [
       "<div>\n",
       "<style scoped>\n",
       "    .dataframe tbody tr th:only-of-type {\n",
       "        vertical-align: middle;\n",
       "    }\n",
       "\n",
       "    .dataframe tbody tr th {\n",
       "        vertical-align: top;\n",
       "    }\n",
       "\n",
       "    .dataframe thead th {\n",
       "        text-align: right;\n",
       "    }\n",
       "</style>\n",
       "<table border=\"1\" class=\"dataframe\">\n",
       "  <thead>\n",
       "    <tr style=\"text-align: right;\">\n",
       "      <th></th>\n",
       "      <th>Ville</th>\n",
       "      <th>Marque</th>\n",
       "      <th>Modèle</th>\n",
       "      <th>Année-Modèle</th>\n",
       "      <th>Kilométrage</th>\n",
       "      <th>Type de carburant</th>\n",
       "      <th>Puissance fiscale</th>\n",
       "      <th>Boite de vitesses</th>\n",
       "      <th>Nombre de portes</th>\n",
       "      <th>Origine</th>\n",
       "      <th>...</th>\n",
       "      <th>Caméra de recul</th>\n",
       "      <th>Vitres électriques</th>\n",
       "      <th>ABS</th>\n",
       "      <th>ESP</th>\n",
       "      <th>Régulateur de vitesse</th>\n",
       "      <th>Limiteur de vitesse</th>\n",
       "      <th>CD/MP3/Bluetooth</th>\n",
       "      <th>Ordinateur de bord</th>\n",
       "      <th>Verrouillage centralisé à distance</th>\n",
       "      <th>Prix</th>\n",
       "    </tr>\n",
       "  </thead>\n",
       "  <tbody>\n",
       "    <tr>\n",
       "      <th>0</th>\n",
       "      <td>Temara</td>\n",
       "      <td>Fiat</td>\n",
       "      <td>Punto</td>\n",
       "      <td>2007</td>\n",
       "      <td>200 000 - 249 999</td>\n",
       "      <td>Diesel</td>\n",
       "      <td>5</td>\n",
       "      <td>Manuelle</td>\n",
       "      <td>5</td>\n",
       "      <td>WW au Maroc</td>\n",
       "      <td>...</td>\n",
       "      <td>0</td>\n",
       "      <td>0</td>\n",
       "      <td>1</td>\n",
       "      <td>0</td>\n",
       "      <td>0</td>\n",
       "      <td>0</td>\n",
       "      <td>1</td>\n",
       "      <td>0</td>\n",
       "      <td>0</td>\n",
       "      <td>60000</td>\n",
       "    </tr>\n",
       "    <tr>\n",
       "      <th>1</th>\n",
       "      <td>Temara</td>\n",
       "      <td>Dacia</td>\n",
       "      <td>Dokker Van</td>\n",
       "      <td>2013</td>\n",
       "      <td>400 000 - 449 999</td>\n",
       "      <td>Diesel</td>\n",
       "      <td>6</td>\n",
       "      <td>Manuelle</td>\n",
       "      <td>3</td>\n",
       "      <td>WW au Maroc</td>\n",
       "      <td>...</td>\n",
       "      <td>0</td>\n",
       "      <td>0</td>\n",
       "      <td>0</td>\n",
       "      <td>0</td>\n",
       "      <td>0</td>\n",
       "      <td>0</td>\n",
       "      <td>0</td>\n",
       "      <td>0</td>\n",
       "      <td>0</td>\n",
       "      <td>70000</td>\n",
       "    </tr>\n",
       "    <tr>\n",
       "      <th>2</th>\n",
       "      <td>Casablanca</td>\n",
       "      <td>Dacia</td>\n",
       "      <td>Dokker</td>\n",
       "      <td>2014</td>\n",
       "      <td>160 000 - 169 999</td>\n",
       "      <td>Diesel</td>\n",
       "      <td>6</td>\n",
       "      <td>Manuelle</td>\n",
       "      <td>5</td>\n",
       "      <td>WW au Maroc</td>\n",
       "      <td>...</td>\n",
       "      <td>0</td>\n",
       "      <td>0</td>\n",
       "      <td>0</td>\n",
       "      <td>0</td>\n",
       "      <td>0</td>\n",
       "      <td>0</td>\n",
       "      <td>0</td>\n",
       "      <td>0</td>\n",
       "      <td>0</td>\n",
       "      <td>90000</td>\n",
       "    </tr>\n",
       "    <tr>\n",
       "      <th>3</th>\n",
       "      <td>Casablanca</td>\n",
       "      <td>Volkswagen</td>\n",
       "      <td>Touareg</td>\n",
       "      <td>2005</td>\n",
       "      <td>0 - 4 999</td>\n",
       "      <td>Diesel</td>\n",
       "      <td>10</td>\n",
       "      <td>Automatique</td>\n",
       "      <td>5</td>\n",
       "      <td>WW au Maroc</td>\n",
       "      <td>...</td>\n",
       "      <td>0</td>\n",
       "      <td>0</td>\n",
       "      <td>0</td>\n",
       "      <td>0</td>\n",
       "      <td>0</td>\n",
       "      <td>0</td>\n",
       "      <td>0</td>\n",
       "      <td>0</td>\n",
       "      <td>0</td>\n",
       "      <td>90000</td>\n",
       "    </tr>\n",
       "    <tr>\n",
       "      <th>4</th>\n",
       "      <td>Dakhla</td>\n",
       "      <td>Toyota</td>\n",
       "      <td>Prado</td>\n",
       "      <td>2007</td>\n",
       "      <td>200 000 - 249 999</td>\n",
       "      <td>Diesel</td>\n",
       "      <td>12</td>\n",
       "      <td>Manuelle</td>\n",
       "      <td>5</td>\n",
       "      <td>WW au Maroc</td>\n",
       "      <td>...</td>\n",
       "      <td>0</td>\n",
       "      <td>0</td>\n",
       "      <td>1</td>\n",
       "      <td>0</td>\n",
       "      <td>0</td>\n",
       "      <td>0</td>\n",
       "      <td>1</td>\n",
       "      <td>0</td>\n",
       "      <td>0</td>\n",
       "      <td>97000</td>\n",
       "    </tr>\n",
       "    <tr>\n",
       "      <th>...</th>\n",
       "      <td>...</td>\n",
       "      <td>...</td>\n",
       "      <td>...</td>\n",
       "      <td>...</td>\n",
       "      <td>...</td>\n",
       "      <td>...</td>\n",
       "      <td>...</td>\n",
       "      <td>...</td>\n",
       "      <td>...</td>\n",
       "      <td>...</td>\n",
       "      <td>...</td>\n",
       "      <td>...</td>\n",
       "      <td>...</td>\n",
       "      <td>...</td>\n",
       "      <td>...</td>\n",
       "      <td>...</td>\n",
       "      <td>...</td>\n",
       "      <td>...</td>\n",
       "      <td>...</td>\n",
       "      <td>...</td>\n",
       "      <td>...</td>\n",
       "    </tr>\n",
       "    <tr>\n",
       "      <th>24771</th>\n",
       "      <td>Marrakech</td>\n",
       "      <td>mini</td>\n",
       "      <td>cabrio</td>\n",
       "      <td>2011</td>\n",
       "      <td>70 000 - 74 999</td>\n",
       "      <td>Essence</td>\n",
       "      <td>9</td>\n",
       "      <td>Manuelle</td>\n",
       "      <td>3</td>\n",
       "      <td>WW au Maroc</td>\n",
       "      <td>...</td>\n",
       "      <td>0</td>\n",
       "      <td>0</td>\n",
       "      <td>1</td>\n",
       "      <td>1</td>\n",
       "      <td>0</td>\n",
       "      <td>0</td>\n",
       "      <td>0</td>\n",
       "      <td>0</td>\n",
       "      <td>0</td>\n",
       "      <td>180000</td>\n",
       "    </tr>\n",
       "    <tr>\n",
       "      <th>24772</th>\n",
       "      <td>Safi</td>\n",
       "      <td>mini</td>\n",
       "      <td>cooper</td>\n",
       "      <td>2007</td>\n",
       "      <td>190 000 - 199 999</td>\n",
       "      <td>Essence</td>\n",
       "      <td>9</td>\n",
       "      <td>Manuelle</td>\n",
       "      <td>3</td>\n",
       "      <td>WW au Maroc</td>\n",
       "      <td>...</td>\n",
       "      <td>0</td>\n",
       "      <td>0</td>\n",
       "      <td>1</td>\n",
       "      <td>1</td>\n",
       "      <td>0</td>\n",
       "      <td>0</td>\n",
       "      <td>1</td>\n",
       "      <td>0</td>\n",
       "      <td>0</td>\n",
       "      <td>63000</td>\n",
       "    </tr>\n",
       "    <tr>\n",
       "      <th>24773</th>\n",
       "      <td>Salé</td>\n",
       "      <td>mini</td>\n",
       "      <td>one</td>\n",
       "      <td>2006</td>\n",
       "      <td>10 000 - 14 999</td>\n",
       "      <td>Essence</td>\n",
       "      <td>8</td>\n",
       "      <td>Manuelle</td>\n",
       "      <td>3</td>\n",
       "      <td>WW au Maroc</td>\n",
       "      <td>...</td>\n",
       "      <td>0</td>\n",
       "      <td>0</td>\n",
       "      <td>1</td>\n",
       "      <td>0</td>\n",
       "      <td>0</td>\n",
       "      <td>0</td>\n",
       "      <td>1</td>\n",
       "      <td>0</td>\n",
       "      <td>0</td>\n",
       "      <td>60000</td>\n",
       "    </tr>\n",
       "    <tr>\n",
       "      <th>24774</th>\n",
       "      <td>Casablanca</td>\n",
       "      <td>mini</td>\n",
       "      <td>cooper</td>\n",
       "      <td>2010</td>\n",
       "      <td>140 000 - 149 999</td>\n",
       "      <td>Essence</td>\n",
       "      <td>9</td>\n",
       "      <td>Automatique</td>\n",
       "      <td>3</td>\n",
       "      <td>Dédouanée</td>\n",
       "      <td>...</td>\n",
       "      <td>0</td>\n",
       "      <td>0</td>\n",
       "      <td>1</td>\n",
       "      <td>1</td>\n",
       "      <td>0</td>\n",
       "      <td>0</td>\n",
       "      <td>1</td>\n",
       "      <td>0</td>\n",
       "      <td>0</td>\n",
       "      <td>85000</td>\n",
       "    </tr>\n",
       "    <tr>\n",
       "      <th>24775</th>\n",
       "      <td>Marrakech</td>\n",
       "      <td>mini</td>\n",
       "      <td>cooper</td>\n",
       "      <td>2008</td>\n",
       "      <td>180 000 - 189 999</td>\n",
       "      <td>Essence</td>\n",
       "      <td>9</td>\n",
       "      <td>Manuelle</td>\n",
       "      <td>&lt;NA&gt;</td>\n",
       "      <td>Importée neuve</td>\n",
       "      <td>...</td>\n",
       "      <td>0</td>\n",
       "      <td>0</td>\n",
       "      <td>0</td>\n",
       "      <td>0</td>\n",
       "      <td>0</td>\n",
       "      <td>0</td>\n",
       "      <td>0</td>\n",
       "      <td>0</td>\n",
       "      <td>0</td>\n",
       "      <td>84000</td>\n",
       "    </tr>\n",
       "  </tbody>\n",
       "</table>\n",
       "<p>24776 rows × 29 columns</p>\n",
       "</div>"
      ],
      "text/plain": [
       "            Ville      Marque      Modèle  Année-Modèle        Kilométrage  \\\n",
       "0          Temara        Fiat       Punto          2007  200 000 - 249 999   \n",
       "1          Temara       Dacia  Dokker Van          2013  400 000 - 449 999   \n",
       "2      Casablanca       Dacia      Dokker          2014  160 000 - 169 999   \n",
       "3      Casablanca  Volkswagen     Touareg          2005          0 - 4 999   \n",
       "4          Dakhla      Toyota       Prado          2007  200 000 - 249 999   \n",
       "...           ...         ...         ...           ...                ...   \n",
       "24771   Marrakech        mini      cabrio          2011    70 000 - 74 999   \n",
       "24772        Safi        mini      cooper          2007  190 000 - 199 999   \n",
       "24773        Salé        mini         one          2006    10 000 - 14 999   \n",
       "24774  Casablanca        mini      cooper          2010  140 000 - 149 999   \n",
       "24775   Marrakech        mini      cooper          2008  180 000 - 189 999   \n",
       "\n",
       "      Type de carburant  Puissance fiscale Boite de vitesses  \\\n",
       "0                Diesel                  5          Manuelle   \n",
       "1                Diesel                  6          Manuelle   \n",
       "2                Diesel                  6          Manuelle   \n",
       "3                Diesel                 10       Automatique   \n",
       "4                Diesel                 12          Manuelle   \n",
       "...                 ...                ...               ...   \n",
       "24771           Essence                  9          Manuelle   \n",
       "24772           Essence                  9          Manuelle   \n",
       "24773           Essence                  8          Manuelle   \n",
       "24774           Essence                  9       Automatique   \n",
       "24775           Essence                  9          Manuelle   \n",
       "\n",
       "       Nombre de portes         Origine  ... Caméra de recul  \\\n",
       "0                     5     WW au Maroc  ...               0   \n",
       "1                     3     WW au Maroc  ...               0   \n",
       "2                     5     WW au Maroc  ...               0   \n",
       "3                     5     WW au Maroc  ...               0   \n",
       "4                     5     WW au Maroc  ...               0   \n",
       "...                 ...             ...  ...             ...   \n",
       "24771                 3     WW au Maroc  ...               0   \n",
       "24772                 3     WW au Maroc  ...               0   \n",
       "24773                 3     WW au Maroc  ...               0   \n",
       "24774                 3       Dédouanée  ...               0   \n",
       "24775              <NA>  Importée neuve  ...               0   \n",
       "\n",
       "      Vitres électriques  ABS  ESP  Régulateur de vitesse  \\\n",
       "0                      0    1    0                      0   \n",
       "1                      0    0    0                      0   \n",
       "2                      0    0    0                      0   \n",
       "3                      0    0    0                      0   \n",
       "4                      0    1    0                      0   \n",
       "...                  ...  ...  ...                    ...   \n",
       "24771                  0    1    1                      0   \n",
       "24772                  0    1    1                      0   \n",
       "24773                  0    1    0                      0   \n",
       "24774                  0    1    1                      0   \n",
       "24775                  0    0    0                      0   \n",
       "\n",
       "       Limiteur de vitesse  CD/MP3/Bluetooth  Ordinateur de bord  \\\n",
       "0                        0                 1                   0   \n",
       "1                        0                 0                   0   \n",
       "2                        0                 0                   0   \n",
       "3                        0                 0                   0   \n",
       "4                        0                 1                   0   \n",
       "...                    ...               ...                 ...   \n",
       "24771                    0                 0                   0   \n",
       "24772                    0                 1                   0   \n",
       "24773                    0                 1                   0   \n",
       "24774                    0                 1                   0   \n",
       "24775                    0                 0                   0   \n",
       "\n",
       "       Verrouillage centralisé à distance    Prix  \n",
       "0                                       0   60000  \n",
       "1                                       0   70000  \n",
       "2                                       0   90000  \n",
       "3                                       0   90000  \n",
       "4                                       0   97000  \n",
       "...                                   ...     ...  \n",
       "24771                                   0  180000  \n",
       "24772                                   0   63000  \n",
       "24773                                   0   60000  \n",
       "24774                                   0   85000  \n",
       "24775                                   0   84000  \n",
       "\n",
       "[24776 rows x 29 columns]"
      ]
     },
     "execution_count": 11,
     "metadata": {},
     "output_type": "execute_result"
    }
   ],
   "source": [
    "df"
   ]
  },
  {
   "cell_type": "code",
   "execution_count": 12,
   "id": "7a5b8abb-9b6d-4209-bf96-706f83fdb862",
   "metadata": {},
   "outputs": [
    {
     "data": {
      "text/plain": [
       "Ville                                 object\n",
       "Marque                                object\n",
       "Modèle                                object\n",
       "Année-Modèle                           int64\n",
       "Kilométrage                           object\n",
       "Type de carburant                     object\n",
       "Puissance fiscale                      int64\n",
       "Boite de vitesses                     object\n",
       "Nombre de portes                       Int64\n",
       "Origine                               object\n",
       "Première main                         object\n",
       "État                                  object\n",
       "Jantes aluminium                       int32\n",
       "Airbags                                int32\n",
       "Climatisation                          int32\n",
       "Système de navigation/GPS              int32\n",
       "Toit ouvrant                           int32\n",
       "Sièges cuir                            int32\n",
       "Radar de recul                         int32\n",
       "Caméra de recul                        int32\n",
       "Vitres électriques                     int32\n",
       "ABS                                    int32\n",
       "ESP                                    int32\n",
       "Régulateur de vitesse                  int32\n",
       "Limiteur de vitesse                    int32\n",
       "CD/MP3/Bluetooth                       int32\n",
       "Ordinateur de bord                     int32\n",
       "Verrouillage centralisé à distance     int32\n",
       "Prix                                   int64\n",
       "dtype: object"
      ]
     },
     "execution_count": 12,
     "metadata": {},
     "output_type": "execute_result"
    }
   ],
   "source": [
    "df.dtypes"
   ]
  },
  {
   "cell_type": "code",
   "execution_count": 13,
   "id": "277364e0-3a2a-4733-b018-0d85229572f3",
   "metadata": {},
   "outputs": [
    {
     "data": {
      "text/plain": [
       "0        0\n",
       "1        0\n",
       "2        0\n",
       "3        1\n",
       "4        0\n",
       "        ..\n",
       "24771    1\n",
       "24772    0\n",
       "24773    0\n",
       "24774    0\n",
       "24775    0\n",
       "Name: Première main, Length: 24776, dtype: int64"
      ]
     },
     "execution_count": 13,
     "metadata": {},
     "output_type": "execute_result"
    }
   ],
   "source": [
    "df['Première main'] = df['Première main'].apply(lambda x: 1 if x == 'Oui' else 0)\n",
    "df['Première main']"
   ]
  },
  {
   "cell_type": "code",
   "execution_count": 14,
   "id": "ce85871d-b452-4876-bade-f1a421dd0018",
   "metadata": {},
   "outputs": [
    {
     "data": {
      "text/plain": [
       "array(['200 000 - 249 999', '400 000 - 449 999', '160 000 - 169 999',\n",
       "       '0 - 4 999', '180 000 - 189 999', '75 000 - 79 999',\n",
       "       '10 000 - 14 999', '120 000 - 129 999', '110 000 - 119 999',\n",
       "       '35 000 - 39 999', '90 000 - 94 999', '190 000 - 199 999',\n",
       "       '50 000 - 54 999', '300 000 - 349 999', '30 000 - 34 999',\n",
       "       '20 000 - 24 999', '80 000 - 84 999', '140 000 - 149 999',\n",
       "       '130 000 - 139 999', '250 000 - 299 999', '95 000 - 99 999',\n",
       "       '100 000 - 109 999', '170 000 - 179 999', '65 000 - 69 999',\n",
       "       '5 000 - 9 999', '55 000 - 59 999', '25 000 - 29 999',\n",
       "       '70 000 - 74 999', '15 000 - 19 999', '350 000 - 399 999',\n",
       "       '60 000 - 64 999', '40 000 - 44 999', '45 000 - 49 999',\n",
       "       '85 000 - 89 999', '150 000 - 159 999', '450 000 - 499 999'],\n",
       "      dtype=object)"
      ]
     },
     "execution_count": 14,
     "metadata": {},
     "output_type": "execute_result"
    }
   ],
   "source": [
    "df['Kilométrage'].unique()"
   ]
  },
  {
   "cell_type": "code",
   "execution_count": 15,
   "id": "db6f6aaf-4b72-4164-9ef1-552655466c23",
   "metadata": {},
   "outputs": [
    {
     "data": {
      "text/plain": [
       "12500"
      ]
     },
     "execution_count": 15,
     "metadata": {},
     "output_type": "execute_result"
    }
   ],
   "source": [
    "def kilometrage_transform(elm):\n",
    "    l = elm.split('-')\n",
    "    min_val = int(l[0].replace(' ', ''))\n",
    "    max_val = int(l[1].replace(' ', ''))\n",
    "    return round((min_val + max_val) / 2)\n",
    "    \n",
    "\n",
    "kilometrage_transform('10 000 - 14 999')"
   ]
  },
  {
   "cell_type": "code",
   "execution_count": 16,
   "id": "bcc76f03-fce2-4854-956d-a0cc4cc0b4b2",
   "metadata": {},
   "outputs": [],
   "source": [
    "df['Kilometrage_moyen'] = df['Kilométrage'].apply(lambda x: kilometrage_transform(x))"
   ]
  },
  {
   "cell_type": "code",
   "execution_count": 17,
   "id": "0fae5c19-d583-45ab-a6c9-1a5be26b6535",
   "metadata": {},
   "outputs": [
    {
     "data": {
      "text/plain": [
       "0        225000\n",
       "1        425000\n",
       "2        165000\n",
       "3          2500\n",
       "4        225000\n",
       "          ...  \n",
       "24771     72500\n",
       "24772    195000\n",
       "24773     12500\n",
       "24774    145000\n",
       "24775    185000\n",
       "Name: Kilometrage_moyen, Length: 24776, dtype: int64"
      ]
     },
     "execution_count": 17,
     "metadata": {},
     "output_type": "execute_result"
    }
   ],
   "source": [
    "df['Kilometrage_moyen'] "
   ]
  },
  {
   "cell_type": "code",
   "execution_count": 18,
   "id": "abad5af9-3e83-4053-8a89-f63c953957f6",
   "metadata": {},
   "outputs": [],
   "source": [
    "df = df.drop('Kilométrage' , axis=1)"
   ]
  },
  {
   "cell_type": "code",
   "execution_count": 19,
   "id": "d8d57c6c-0c51-4c29-8fa9-47965d369d95",
   "metadata": {},
   "outputs": [
    {
     "data": {
      "text/plain": [
       "Ville                                 object\n",
       "Marque                                object\n",
       "Modèle                                object\n",
       "Année-Modèle                           int64\n",
       "Type de carburant                     object\n",
       "Puissance fiscale                      int64\n",
       "Boite de vitesses                     object\n",
       "Nombre de portes                       Int64\n",
       "Origine                               object\n",
       "Première main                          int64\n",
       "État                                  object\n",
       "Jantes aluminium                       int32\n",
       "Airbags                                int32\n",
       "Climatisation                          int32\n",
       "Système de navigation/GPS              int32\n",
       "Toit ouvrant                           int32\n",
       "Sièges cuir                            int32\n",
       "Radar de recul                         int32\n",
       "Caméra de recul                        int32\n",
       "Vitres électriques                     int32\n",
       "ABS                                    int32\n",
       "ESP                                    int32\n",
       "Régulateur de vitesse                  int32\n",
       "Limiteur de vitesse                    int32\n",
       "CD/MP3/Bluetooth                       int32\n",
       "Ordinateur de bord                     int32\n",
       "Verrouillage centralisé à distance     int32\n",
       "Prix                                   int64\n",
       "Kilometrage_moyen                      int64\n",
       "dtype: object"
      ]
     },
     "execution_count": 19,
     "metadata": {},
     "output_type": "execute_result"
    }
   ],
   "source": [
    "df.dtypes"
   ]
  },
  {
   "cell_type": "code",
   "execution_count": 20,
   "id": "e8e5982e-2513-4b7b-8ce0-214e5b8529d2",
   "metadata": {},
   "outputs": [
    {
     "data": {
      "text/plain": [
       "array(['Très bon', 'Excellent', nan, 'Bon', 'Pour Pièces', 'Correct',\n",
       "       'Endommagé'], dtype=object)"
      ]
     },
     "execution_count": 20,
     "metadata": {},
     "output_type": "execute_result"
    }
   ],
   "source": [
    "df['État'].unique()"
   ]
  },
  {
   "cell_type": "code",
   "execution_count": 21,
   "id": "d7ed29b9-95d1-4a7a-aa86-2cedce34e122",
   "metadata": {},
   "outputs": [],
   "source": [
    "label_mapping = {'Pour Pièces': 1, 'Endommagé': 2, 'Correct': 3, 'Bon': 4, 'Très bon': 5, 'Excellent': 6}\n",
    "\n",
    "df['État'] = df['État'].fillna('Unknown').replace([np.inf, -np.inf], np.nan)\n",
    "\n",
    "# Apply label encoding and convert to integer\n",
    "df['État'] = df['État'].map(label_mapping).astype('Int64')"
   ]
  },
  {
   "cell_type": "code",
   "execution_count": 22,
   "id": "8659a183-ddcc-4492-896b-6b83708c3a21",
   "metadata": {},
   "outputs": [
    {
     "data": {
      "text/plain": [
       "0           5\n",
       "1           6\n",
       "2           5\n",
       "3           6\n",
       "4           6\n",
       "         ... \n",
       "24771       6\n",
       "24772       5\n",
       "24773    <NA>\n",
       "24774       5\n",
       "24775       5\n",
       "Name: État, Length: 24776, dtype: Int64"
      ]
     },
     "execution_count": 22,
     "metadata": {},
     "output_type": "execute_result"
    }
   ],
   "source": [
    "df['État']"
   ]
  },
  {
   "cell_type": "code",
   "execution_count": 23,
   "id": "dfd97ef9-6092-455d-a8fa-1cec0d04537c",
   "metadata": {},
   "outputs": [
    {
     "data": {
      "text/plain": [
       "6678"
      ]
     },
     "execution_count": 23,
     "metadata": {},
     "output_type": "execute_result"
    }
   ],
   "source": [
    "df['État'].isna().sum()"
   ]
  },
  {
   "cell_type": "code",
   "execution_count": 24,
   "id": "0cda3b63-9e00-4af2-99d0-8258220591fe",
   "metadata": {},
   "outputs": [],
   "source": [
    "df = pd.get_dummies(df , columns=['Origine'], dummy_na=True)"
   ]
  },
  {
   "cell_type": "code",
   "execution_count": 25,
   "id": "8b652841-3217-484f-9adb-be2a30ebf22d",
   "metadata": {},
   "outputs": [
    {
     "data": {
      "text/plain": [
       "Index(['Ville', 'Marque', 'Modèle', 'Année-Modèle', 'Type de carburant',\n",
       "       'Puissance fiscale', 'Boite de vitesses', 'Nombre de portes',\n",
       "       'Première main', 'État', 'Jantes aluminium', 'Airbags', 'Climatisation',\n",
       "       'Système de navigation/GPS', 'Toit ouvrant', 'Sièges cuir',\n",
       "       'Radar de recul', 'Caméra de recul', 'Vitres électriques', 'ABS', 'ESP',\n",
       "       'Régulateur de vitesse', 'Limiteur de vitesse', 'CD/MP3/Bluetooth',\n",
       "       'Ordinateur de bord', 'Verrouillage centralisé à distance', 'Prix',\n",
       "       'Kilometrage_moyen', 'Origine_Dédouanée', 'Origine_Importée neuve',\n",
       "       'Origine_Pas encore dédouanée', 'Origine_WW au Maroc', 'Origine_nan'],\n",
       "      dtype='object')"
      ]
     },
     "execution_count": 25,
     "metadata": {},
     "output_type": "execute_result"
    }
   ],
   "source": [
    "df.columns"
   ]
  },
  {
   "cell_type": "code",
   "execution_count": 26,
   "id": "7e80b8f4-aa35-4472-87f3-92cc7d297427",
   "metadata": {},
   "outputs": [
    {
     "data": {
      "text/plain": [
       "Ville                                 object\n",
       "Marque                                object\n",
       "Modèle                                object\n",
       "Année-Modèle                           int64\n",
       "Type de carburant                     object\n",
       "Puissance fiscale                      int64\n",
       "Boite de vitesses                     object\n",
       "Nombre de portes                       Int64\n",
       "Première main                          int64\n",
       "État                                   Int64\n",
       "Jantes aluminium                       int32\n",
       "Airbags                                int32\n",
       "Climatisation                          int32\n",
       "Système de navigation/GPS              int32\n",
       "Toit ouvrant                           int32\n",
       "Sièges cuir                            int32\n",
       "Radar de recul                         int32\n",
       "Caméra de recul                        int32\n",
       "Vitres électriques                     int32\n",
       "ABS                                    int32\n",
       "ESP                                    int32\n",
       "Régulateur de vitesse                  int32\n",
       "Limiteur de vitesse                    int32\n",
       "CD/MP3/Bluetooth                       int32\n",
       "Ordinateur de bord                     int32\n",
       "Verrouillage centralisé à distance     int32\n",
       "Prix                                   int64\n",
       "Kilometrage_moyen                      int64\n",
       "Origine_Dédouanée                       bool\n",
       "Origine_Importée neuve                  bool\n",
       "Origine_Pas encore dédouanée            bool\n",
       "Origine_WW au Maroc                     bool\n",
       "Origine_nan                             bool\n",
       "dtype: object"
      ]
     },
     "execution_count": 26,
     "metadata": {},
     "output_type": "execute_result"
    }
   ],
   "source": [
    "df.dtypes"
   ]
  },
  {
   "cell_type": "code",
   "execution_count": 27,
   "id": "fbee643f-2c1d-40cb-a6f6-c8c4a2c39b3b",
   "metadata": {},
   "outputs": [
    {
     "data": {
      "text/plain": [
       "array(['Manuelle', 'Automatique', '--'], dtype=object)"
      ]
     },
     "execution_count": 27,
     "metadata": {},
     "output_type": "execute_result"
    }
   ],
   "source": [
    "df['Boite de vitesses'].unique()"
   ]
  },
  {
   "cell_type": "code",
   "execution_count": 28,
   "id": "98299519-7138-4298-ac30-705a036e5fb0",
   "metadata": {},
   "outputs": [],
   "source": [
    "label_encoded = df['Boite de vitesses'].astype('category').cat.codes\n",
    "# Concatenate the original DataFrame with the encoded column\n",
    "df = pd.concat([df, label_encoded], axis=1)\n",
    "df = df.drop('Boite de vitesses' , axis=1)\n",
    "# Optionally, rename the encoded column\n",
    "df.rename(columns={ 0: 'Boite de vitesses'}, inplace=True)"
   ]
  },
  {
   "cell_type": "code",
   "execution_count": 29,
   "id": "2bb081c4-251e-4995-aff3-77d4d9e45c53",
   "metadata": {},
   "outputs": [
    {
     "data": {
      "text/plain": [
       "Index(['Ville', 'Marque', 'Modèle', 'Année-Modèle', 'Type de carburant',\n",
       "       'Puissance fiscale', 'Nombre de portes', 'Première main', 'État',\n",
       "       'Jantes aluminium', 'Airbags', 'Climatisation',\n",
       "       'Système de navigation/GPS', 'Toit ouvrant', 'Sièges cuir',\n",
       "       'Radar de recul', 'Caméra de recul', 'Vitres électriques', 'ABS', 'ESP',\n",
       "       'Régulateur de vitesse', 'Limiteur de vitesse', 'CD/MP3/Bluetooth',\n",
       "       'Ordinateur de bord', 'Verrouillage centralisé à distance', 'Prix',\n",
       "       'Kilometrage_moyen', 'Origine_Dédouanée', 'Origine_Importée neuve',\n",
       "       'Origine_Pas encore dédouanée', 'Origine_WW au Maroc', 'Origine_nan',\n",
       "       'Boite de vitesses'],\n",
       "      dtype='object')"
      ]
     },
     "execution_count": 29,
     "metadata": {},
     "output_type": "execute_result"
    }
   ],
   "source": [
    "df.columns"
   ]
  },
  {
   "cell_type": "code",
   "execution_count": 30,
   "id": "08287ef8-026b-4836-8adc-0645b026a8af",
   "metadata": {},
   "outputs": [
    {
     "data": {
      "text/plain": [
       "Ville                                 object\n",
       "Marque                                object\n",
       "Modèle                                object\n",
       "Année-Modèle                           int64\n",
       "Type de carburant                     object\n",
       "Puissance fiscale                      int64\n",
       "Nombre de portes                       Int64\n",
       "Première main                          int64\n",
       "État                                   Int64\n",
       "Jantes aluminium                       int32\n",
       "Airbags                                int32\n",
       "Climatisation                          int32\n",
       "Système de navigation/GPS              int32\n",
       "Toit ouvrant                           int32\n",
       "Sièges cuir                            int32\n",
       "Radar de recul                         int32\n",
       "Caméra de recul                        int32\n",
       "Vitres électriques                     int32\n",
       "ABS                                    int32\n",
       "ESP                                    int32\n",
       "Régulateur de vitesse                  int32\n",
       "Limiteur de vitesse                    int32\n",
       "CD/MP3/Bluetooth                       int32\n",
       "Ordinateur de bord                     int32\n",
       "Verrouillage centralisé à distance     int32\n",
       "Prix                                   int64\n",
       "Kilometrage_moyen                      int64\n",
       "Origine_Dédouanée                       bool\n",
       "Origine_Importée neuve                  bool\n",
       "Origine_Pas encore dédouanée            bool\n",
       "Origine_WW au Maroc                     bool\n",
       "Origine_nan                             bool\n",
       "Boite de vitesses                       int8\n",
       "dtype: object"
      ]
     },
     "execution_count": 30,
     "metadata": {},
     "output_type": "execute_result"
    }
   ],
   "source": [
    "df.dtypes"
   ]
  },
  {
   "cell_type": "code",
   "execution_count": 31,
   "id": "5dc833e8-05a7-4c56-accc-7ddaf0a32d38",
   "metadata": {},
   "outputs": [
    {
     "data": {
      "text/plain": [
       "array(['Diesel', 'Essence', 'Hybride', 'Electrique'], dtype=object)"
      ]
     },
     "execution_count": 31,
     "metadata": {},
     "output_type": "execute_result"
    }
   ],
   "source": [
    "df['Type de carburant'].unique()"
   ]
  },
  {
   "cell_type": "code",
   "execution_count": 34,
   "id": "7c865c16-04c6-41e3-8101-08db66bda687",
   "metadata": {},
   "outputs": [],
   "source": [
    "df = pd.get_dummies(df , columns=['Type de carburant'], dummy_na=True)"
   ]
  },
  {
   "cell_type": "code",
   "execution_count": 35,
   "id": "725dd569-5c2d-4d7a-bbc4-3a0cd78c44a5",
   "metadata": {},
   "outputs": [],
   "source": [
    "label_encoded = df['Ville'].astype('category').cat.codes\n",
    "# Concatenate the original DataFrame with the encoded column\n",
    "df = pd.concat([df, label_encoded], axis=1)\n",
    "df = df.drop('Ville' , axis=1)\n",
    "# Optionally, rename the encoded column\n",
    "df.rename(columns={ 0: 'Ville'}, inplace=True)"
   ]
  },
  {
   "cell_type": "code",
   "execution_count": 36,
   "id": "f1a03562-b1c3-4346-aa51-11cc52e2c686",
   "metadata": {},
   "outputs": [
    {
     "data": {
      "text/plain": [
       "Index(['Marque', 'Modèle', 'Année-Modèle', 'Puissance fiscale',\n",
       "       'Nombre de portes', 'Première main', 'État', 'Jantes aluminium',\n",
       "       'Airbags', 'Climatisation', 'Système de navigation/GPS', 'Toit ouvrant',\n",
       "       'Sièges cuir', 'Radar de recul', 'Caméra de recul',\n",
       "       'Vitres électriques', 'ABS', 'ESP', 'Régulateur de vitesse',\n",
       "       'Limiteur de vitesse', 'CD/MP3/Bluetooth', 'Ordinateur de bord',\n",
       "       'Verrouillage centralisé à distance', 'Prix', 'Kilometrage_moyen',\n",
       "       'Origine_Dédouanée', 'Origine_Importée neuve',\n",
       "       'Origine_Pas encore dédouanée', 'Origine_WW au Maroc', 'Origine_nan',\n",
       "       'Boite de vitesses', 'Type de carburant_Diesel',\n",
       "       'Type de carburant_Electrique', 'Type de carburant_Essence',\n",
       "       'Type de carburant_Hybride', 'Type de carburant_nan', 'Ville'],\n",
       "      dtype='object')"
      ]
     },
     "execution_count": 36,
     "metadata": {},
     "output_type": "execute_result"
    }
   ],
   "source": [
    "df.columns"
   ]
  },
  {
   "cell_type": "code",
   "execution_count": 37,
   "id": "1e136853-f463-4581-ac83-e8470a0c9812",
   "metadata": {},
   "outputs": [
    {
     "data": {
      "text/plain": [
       "0                Fiat Punto\n",
       "1          Dacia Dokker Van\n",
       "2              Dacia Dokker\n",
       "3        Volkswagen Touareg\n",
       "4              Toyota Prado\n",
       "                ...        \n",
       "24771           mini cabrio\n",
       "24772           mini cooper\n",
       "24773              mini one\n",
       "24774           mini cooper\n",
       "24775           mini cooper\n",
       "Length: 24776, dtype: object"
      ]
     },
     "execution_count": 37,
     "metadata": {},
     "output_type": "execute_result"
    }
   ],
   "source": [
    "a = df['Marque'].astype(str) + ' ' + df['Modèle'].astype(str)\n",
    "a"
   ]
  },
  {
   "cell_type": "code",
   "execution_count": 38,
   "id": "9d52b40d-658f-4944-bd86-9d927248ebe8",
   "metadata": {},
   "outputs": [],
   "source": [
    "df = pd.concat([df, a], axis=1)\n",
    "df.rename(columns={ 0: 'Marque_Modèle'}, inplace=True)\n",
    "df = df.drop('Marque' , axis=1)\n",
    "df = df.drop('Modèle' , axis=1)\n"
   ]
  },
  {
   "cell_type": "code",
   "execution_count": 39,
   "id": "bd456a07-476e-4462-87db-4c7da9d7ec41",
   "metadata": {},
   "outputs": [],
   "source": [
    "df = pd.get_dummies(df , columns=['Marque_Modèle'], dummy_na=True)"
   ]
  },
  {
   "cell_type": "code",
   "execution_count": 40,
   "id": "0ecb8cb6-0b02-4a5f-b9d9-cf8b222582cf",
   "metadata": {},
   "outputs": [
    {
     "data": {
      "text/plain": [
       "Index(['Année-Modèle', 'Puissance fiscale', 'Nombre de portes',\n",
       "       'Première main', 'État', 'Jantes aluminium', 'Airbags', 'Climatisation',\n",
       "       'Système de navigation/GPS', 'Toit ouvrant',\n",
       "       ...\n",
       "       'Marque_Modèle_Volkswagen SHARAN',\n",
       "       'Marque_Modèle_Volkswagen TRANSPORTER',\n",
       "       'Marque_Modèle_Volkswagen Tiguan', 'Marque_Modèle_Volkswagen Touareg',\n",
       "       'Marque_Modèle_Volkswagen Touran', 'Marque_Modèle_mini cabrio',\n",
       "       'Marque_Modèle_mini cooper', 'Marque_Modèle_mini country man',\n",
       "       'Marque_Modèle_mini one', 'Marque_Modèle_nan'],\n",
       "      dtype='object', length=407)"
      ]
     },
     "execution_count": 40,
     "metadata": {},
     "output_type": "execute_result"
    }
   ],
   "source": [
    "df.columns"
   ]
  },
  {
   "cell_type": "code",
   "execution_count": 41,
   "id": "de9b1d09-0b62-4e48-a966-81e4f7289250",
   "metadata": {},
   "outputs": [
    {
     "data": {
      "text/plain": [
       "Année-Modèle                         0\n",
       "Puissance fiscale                    0\n",
       "Nombre de portes                  4380\n",
       "Première main                        0\n",
       "État                              6678\n",
       "                                  ... \n",
       "Marque_Modèle_mini cabrio            0\n",
       "Marque_Modèle_mini cooper            0\n",
       "Marque_Modèle_mini country man       0\n",
       "Marque_Modèle_mini one               0\n",
       "Marque_Modèle_nan                    0\n",
       "Length: 407, dtype: int64"
      ]
     },
     "execution_count": 41,
     "metadata": {},
     "output_type": "execute_result"
    }
   ],
   "source": [
    "df.isna().sum()"
   ]
  },
  {
   "cell_type": "code",
   "execution_count": 42,
   "id": "cd381b7a-375d-4472-b84a-7368faf693c6",
   "metadata": {},
   "outputs": [
    {
     "data": {
      "text/plain": [
       "Année-Modèle                      int64\n",
       "Puissance fiscale                 int64\n",
       "Nombre de portes                  Int64\n",
       "Première main                     int64\n",
       "État                              Int64\n",
       "                                  ...  \n",
       "Marque_Modèle_mini cabrio          bool\n",
       "Marque_Modèle_mini cooper          bool\n",
       "Marque_Modèle_mini country man     bool\n",
       "Marque_Modèle_mini one             bool\n",
       "Marque_Modèle_nan                  bool\n",
       "Length: 407, dtype: object"
      ]
     },
     "execution_count": 42,
     "metadata": {},
     "output_type": "execute_result"
    }
   ],
   "source": [
    "df.dtypes"
   ]
  },
  {
   "cell_type": "code",
   "execution_count": 43,
   "id": "5a91b08c-8973-4c8b-a149-94be84898edd",
   "metadata": {},
   "outputs": [],
   "source": [
    "df.loc[: , 'Origine_Dédouanée':'Type de carburant_nan'] = df.loc[: , 'Origine_Dédouanée':'Type de carburant_nan'].astype(int)\n",
    "df.loc[: , 'Marque_Modèle_Alfa Romeo 147':'Marque_Modèle_nan'] = df.loc[: , 'Marque_Modèle_Alfa Romeo 147':'Marque_Modèle_nan'] .astype(int)"
   ]
  },
  {
   "cell_type": "code",
   "execution_count": 44,
   "id": "50dd4dee-578f-4bb4-be4b-b202f1ec2646",
   "metadata": {},
   "outputs": [
    {
     "data": {
      "text/plain": [
       "Année-Modèle                      int64\n",
       "Puissance fiscale                 int64\n",
       "Nombre de portes                  Int64\n",
       "Première main                     int64\n",
       "État                              Int64\n",
       "                                  ...  \n",
       "Marque_Modèle_mini cabrio         int32\n",
       "Marque_Modèle_mini cooper         int32\n",
       "Marque_Modèle_mini country man    int32\n",
       "Marque_Modèle_mini one            int32\n",
       "Marque_Modèle_nan                 int32\n",
       "Length: 407, dtype: object"
      ]
     },
     "execution_count": 44,
     "metadata": {},
     "output_type": "execute_result"
    }
   ],
   "source": [
    "df.dtypes"
   ]
  },
  {
   "cell_type": "markdown",
   "id": "a0e632dc-53c6-490b-9fa9-f7e4d4aa98e7",
   "metadata": {},
   "source": [
    "### Fitting the model"
   ]
  },
  {
   "cell_type": "code",
   "execution_count": 45,
   "id": "fd28f846-6651-4ebe-a4d9-405719a05479",
   "metadata": {},
   "outputs": [],
   "source": [
    "from sklearn.tree import DecisionTreeRegressor\n",
    "from sklearn.model_selection import train_test_split\n",
    "from sklearn.impute import SimpleImputer\n",
    "from sklearn.metrics import mean_squared_error"
   ]
  },
  {
   "cell_type": "code",
   "execution_count": 46,
   "id": "2e380d7d-8b55-41e0-a7aa-419bb8a14200",
   "metadata": {},
   "outputs": [],
   "source": [
    "\n",
    "target = df['Prix']\n",
    "data = df.drop('Prix', axis=1)"
   ]
  },
  {
   "cell_type": "code",
   "execution_count": 47,
   "id": "9beaf3a4-613a-4e37-8cd5-ee99ff548f6f",
   "metadata": {},
   "outputs": [
    {
     "name": "stdout",
     "output_type": "stream",
     "text": [
      "Mean Squared Error: 574054856294.1384\n"
     ]
    }
   ],
   "source": [
    "X_train, X_test, y_train, y_test = train_test_split(data, target, test_size=0.2, random_state=0)\n",
    "model = DecisionTreeRegressor()\n",
    "\n",
    "imputer = SimpleImputer(strategy='mean')\n",
    "X_train_imputed = imputer.fit_transform(X_train)\n",
    "X_test_imputed = imputer.transform(X_test)\n",
    "\n",
    "model.fit(X_train_imputed, y_train)\n",
    "\n",
    "y_pred = model.predict(X_test_imputed)\n",
    "\n",
    "mse = mean_squared_error(y_test, y_pred)\n",
    "print(\"Mean Squared Error:\", mse)"
   ]
  },
  {
   "cell_type": "code",
   "execution_count": 48,
   "id": "4efb4cf7-e6bc-47b0-a122-cdf3d3cc37aa",
   "metadata": {},
   "outputs": [
    {
     "data": {
      "text/plain": [
       "-6.438175161328247"
      ]
     },
     "execution_count": 48,
     "metadata": {},
     "output_type": "execute_result"
    }
   ],
   "source": [
    "model.score(X_test_imputed, y_test)"
   ]
  },
  {
   "cell_type": "markdown",
   "id": "e95d6338-efd0-4fbc-954b-c1e34a5e83b4",
   "metadata": {},
   "source": [
    "## Score wasn't good so i will try to optimize it"
   ]
  },
  {
   "cell_type": "markdown",
   "id": "7afa872e-013d-4214-afff-9bf7d8878eb4",
   "metadata": {},
   "source": [
    "### i will do the same but change the imputation methods"
   ]
  },
  {
   "cell_type": "code",
   "execution_count": 11,
   "id": "c27a55eb-8cd1-4ee7-aa6e-692c929da151",
   "metadata": {},
   "outputs": [
    {
     "data": {
      "text/plain": [
       "Année-Modèle                          int64\n",
       "Kilométrage                        category\n",
       "Type de carburant                  category\n",
       "Puissance fiscale                     int64\n",
       "Boite de vitesses                  category\n",
       "                                     ...   \n",
       "Marque_Modele_Volkswagen_Touran        bool\n",
       "Marque_Modele_mini_cabrio              bool\n",
       "Marque_Modele_mini_cooper              bool\n",
       "Marque_Modele_mini_country man         bool\n",
       "Marque_Modele_mini_one                 bool\n",
       "Length: 394, dtype: object"
      ]
     },
     "execution_count": 11,
     "metadata": {},
     "output_type": "execute_result"
    }
   ],
   "source": [
    "df2 = pd.read_csv('avito_car_dataset_ALL.csv', encoding='latin1' , index_col=0)\n",
    "\n",
    "data_types = df2.dtypes\n",
    "# Convert non-numeric columns to categories\n",
    "non_numeric_cols = data_types[data_types == 'object'].index\n",
    "for col in non_numeric_cols:\n",
    "    df2[col] = df2[col].astype('category')\n",
    "\n",
    "# Drop the 'Lien' column\n",
    "if 'Lien' in df2.columns:\n",
    "    df2.drop('Lien', axis=1, inplace=True)\n",
    "\n",
    "# Impute missing values in 'Nombre de portes' column with the median\n",
    "df2['Nombre de portes'] = df2['Nombre de portes'].fillna(df2['Nombre de portes'].median())\n",
    "\n",
    "\n",
    "# Impute missing values in categorical columns using the mode\n",
    "categorical_cols = ['Ville', 'Origine', 'Première main', 'État']\n",
    "for col in categorical_cols:\n",
    "    df2[col] = df2[col].fillna(df2[col].mode()[0])\n",
    "\n",
    "\n",
    "\n",
    "# Perform one-hot encoding on the categorical columns\n",
    "df_encoded = pd.get_dummies(df2, columns=['Ville', 'Origine', 'Première main', 'État'])\n",
    "\n",
    "\n",
    "df2.drop(['Secteur', 'Ville', 'Origine', 'Première main', 'État'], axis=1, inplace=True)\n",
    "\n",
    "\n",
    "\n",
    "from sklearn.preprocessing import OneHotEncoder\n",
    "\n",
    "# Convert 'Marque' and 'Modèle' columns to strings\n",
    "df2['Marque'] = df2['Marque'].astype(str)\n",
    "df2['Modèle'] = df2['Modèle'].astype(str)\n",
    "\n",
    "# Concatenate 'Marque' and 'Modèle' into a new column 'Marque_Modele'\n",
    "df2['Marque_Modele'] = df2['Marque'] + '_' + df2['Modèle']\n",
    "\n",
    "\n",
    "# Drop the original 'Marque' and 'Modèle' columns\n",
    "df2.drop(['Marque', 'Modèle' ], axis=1, inplace=True)\n",
    "# Display the head of the dataframe to confirm the changes\n",
    "\n",
    "# Encode the 'Marque_Modele' column\n",
    "encoded_columns = pd.get_dummies(df2['Marque_Modele'], prefix='Marque_Modele')\n",
    "\n",
    "# Concatenate the encoded columns with the original DataFrame\n",
    "df2 = pd.concat([df2, encoded_columns], axis=1)\n",
    "\n",
    "# Drop the original 'Marque_Modele' column as it has been encoded\n",
    "df2.drop('Marque_Modele', axis=1, inplace=True)\n",
    "\n",
    "\n",
    "df2.dtypes"
   ]
  },
  {
   "cell_type": "markdown",
   "id": "48dbee3c-13af-4f25-b972-5adb348fbf8e",
   "metadata": {},
   "source": [
    "### then fitting the model"
   ]
  },
  {
   "cell_type": "code",
   "execution_count": 12,
   "id": "883121e3-bbd3-45d8-9a5b-d4b344f1cb59",
   "metadata": {},
   "outputs": [
    {
     "name": "stdout",
     "output_type": "stream",
     "text": [
      "the score: 0.5674928942771804\n",
      "Mean Squared Error: 219628046300.68262\n",
      "R-squared score: 0.5674928942771804\n"
     ]
    }
   ],
   "source": [
    "# Perform one-hot encoding on the categorical columns\n",
    "df2 = pd.get_dummies(df2, columns=['Kilométrage', 'Type de carburant', 'Boite de vitesses'])\n",
    "\n",
    "# Split data into features and target variable\n",
    "X = df2.drop('Prix', axis=1)\n",
    "y = df2['Prix']\n",
    "\n",
    "df2.dtypes\n",
    "# Split data into training and testing sets\n",
    "from sklearn.model_selection import train_test_split\n",
    "X_train, X_test, y_train, y_test = train_test_split(X, y, test_size=0.2, random_state=42)\n",
    "\n",
    "# Import DecisionTreeRegressor\n",
    "from sklearn.tree import DecisionTreeRegressor\n",
    "\n",
    "# Instantiate the regressor\n",
    "regressor = DecisionTreeRegressor()\n",
    "\n",
    "# Fit the model to the training data\n",
    "regressor.fit(X_train, y_train)\n",
    "\n",
    "# Predict on the testing data\n",
    "y_pred = regressor.predict(X_test)\n",
    "\n",
    "# Evaluate the model\n",
    "from sklearn.metrics import mean_squared_error, r2_score\n",
    "\n",
    "# Calculate Mean Squared Error (MSE)\n",
    "mse = mean_squared_error(y_test, y_pred)\n",
    "\n",
    "# Calculate R-squared score\n",
    "r2 = r2_score(y_test, y_pred)\n",
    "\n",
    "score = regressor.score(X_test, y_test)\n",
    "print(\"the score:\", score)\n",
    "print(\"Mean Squared Error:\", mse)\n",
    "print(\"R-squared score:\", r2)\n"
   ]
  },
  {
   "cell_type": "markdown",
   "id": "76df8ed3-ecc5-43e7-b3e9-0207d0b26c69",
   "metadata": {},
   "source": [
    "## it shows a better results and there's always a room to optimize"
   ]
  },
  {
   "cell_type": "code",
   "execution_count": null,
   "id": "d67f73e4-151a-4c44-b1d7-122855983fde",
   "metadata": {},
   "outputs": [],
   "source": []
  }
 ],
 "metadata": {
  "kernelspec": {
   "display_name": "Python 3 (ipykernel)",
   "language": "python",
   "name": "python3"
  },
  "language_info": {
   "codemirror_mode": {
    "name": "ipython",
    "version": 3
   },
   "file_extension": ".py",
   "mimetype": "text/x-python",
   "name": "python",
   "nbconvert_exporter": "python",
   "pygments_lexer": "ipython3",
   "version": "3.11.7"
  }
 },
 "nbformat": 4,
 "nbformat_minor": 5
}
